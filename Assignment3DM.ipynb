{
  "cells": [
    {
      "cell_type": "code",
      "execution_count": 11,
      "id": "591fc63c",
      "metadata": {
        "id": "591fc63c"
      },
      "outputs": [],
      "source": [
        "import numpy as np\n",
        "import pandas as pd\n",
        "import matplotlib.pyplot as plt\n",
        "from sklearn.model_selection import train_test_split\n",
        "from sklearn.linear_model import LinearRegression\n",
        "from sklearn.metrics import mean_squared_error, mean_absolute_error, r2_score\n",
        "from sklearn.preprocessing import StandardScaler"
      ]
    },
    {
      "cell_type": "code",
      "execution_count": 16,
      "id": "b08519bb",
      "metadata": {
        "colab": {
          "base_uri": "https://localhost:8080/"
        },
        "id": "b08519bb",
        "outputId": "e2756a62-7cbd-4c15-beb5-9687e2a3bbb5"
      },
      "outputs": [
        {
          "name": "stdout",
          "output_type": "stream",
          "text": [
            "Lima baris pertama dari dataset:\n",
            "   Overall rank Country or region  Score     X1     X2     X3     X4     X5  \\\n",
            "0             1           Finland  7.769  1.340  1.587  0.986  0.596  0.153   \n",
            "1             2           Denmark  7.600  1.383  1.573  0.996  0.592  0.252   \n",
            "2             3            Norway  7.554  1.488  1.582  1.028  0.603  0.271   \n",
            "3             4           Iceland  7.494  1.380  1.624  1.026  0.591  0.354   \n",
            "4             5       Netherlands  7.488  1.396  1.522  0.999  0.557  0.322   \n",
            "\n",
            "      X6  \n",
            "0  0.393  \n",
            "1  0.410  \n",
            "2  0.341  \n",
            "3  0.118  \n",
            "4  0.298  \n"
          ]
        }
      ],
      "source": [
        "# Membaca data dari file CSV\n",
        "df = pd.read_csv('/content/drive/MyDrive/Colab Notebooks/Hands-On/dataset.csv', sep=';')\n",
        "# Menampilkan lima baris pertama dari dataset\n",
        "print(\"Lima baris pertama dari dataset:\")\n",
        "print(df.head())"
      ]
    },
    {
      "cell_type": "code",
      "execution_count": 17,
      "id": "e696f57e",
      "metadata": {
        "id": "e696f57e"
      },
      "outputs": [],
      "source": [
        "# Memilih kolom yang akan digunakan untuk MLR\n",
        "columns_to_use = ['X1', 'X2', 'X3', 'X4', 'X5', 'X6']"
      ]
    },
    {
      "cell_type": "code",
      "execution_count": 18,
      "id": "6231a898",
      "metadata": {
        "id": "6231a898"
      },
      "outputs": [],
      "source": [
        "# Memisahkan fitur dan target\n",
        "X = df[columns_to_use]\n",
        "y = df['Score']"
      ]
    },
    {
      "cell_type": "code",
      "execution_count": 75,
      "id": "e378a80e",
      "metadata": {
        "id": "e378a80e"
      },
      "outputs": [],
      "source": [
        "# Membagi data menjadi data pelatihan dan pengujian\n",
        "X_train, X_test, y_train, y_test = train_test_split(X, y, test_size=0.1, random_state=42)"
      ]
    },
    {
      "cell_type": "code",
      "execution_count": 76,
      "id": "a69b390d",
      "metadata": {
        "colab": {
          "base_uri": "https://localhost:8080/"
        },
        "id": "a69b390d",
        "outputId": "4032a909-8b5b-414d-c3ad-c82fa95c5844"
      },
      "outputs": [
        {
          "name": "stdout",
          "output_type": "stream",
          "text": [
            "Dimensi data pelatihan: X_train: (140, 6), y_train: (140,)\n",
            "Dimensi data pengujian: X_test: (16, 6), y_test: (16,)\n"
          ]
        }
      ],
      "source": [
        "# Menampilkan dimensi data pelatihan dan pengujian\n",
        "print(f\"Dimensi data pelatihan: X_train: {X_train.shape}, y_train: {y_train.shape}\")\n",
        "print(f\"Dimensi data pengujian: X_test: {X_test.shape}, y_test: {y_test.shape}\")"
      ]
    },
    {
      "cell_type": "code",
      "execution_count": 77,
      "id": "71da98e5",
      "metadata": {
        "id": "71da98e5"
      },
      "outputs": [],
      "source": [
        "# Standarisasi fitur\n",
        "scaler = StandardScaler()\n",
        "X_train_scaled = scaler.fit_transform(X_train)\n",
        "X_test_scaled = scaler.transform(X_test)"
      ]
    },
    {
      "cell_type": "code",
      "execution_count": 78,
      "id": "5d357aec",
      "metadata": {
        "id": "5d357aec"
      },
      "outputs": [],
      "source": [
        "# Membuat model MLR\n",
        "model = LinearRegression()\n",
        "\n",
        "# Melatih model\n",
        "model.fit(X_train_scaled, y_train)\n",
        "\n",
        "# Memprediksi data pengujian\n",
        "y_pred = model.predict(X_test_scaled)"
      ]
    },
    {
      "cell_type": "code",
      "execution_count": 79,
      "id": "bdc0e857",
      "metadata": {
        "colab": {
          "base_uri": "https://localhost:8080/"
        },
        "id": "bdc0e857",
        "outputId": "73d83969-86ee-4cf5-e02a-f47a5c8c0efa"
      },
      "outputs": [
        {
          "data": {
            "text/plain": [
              "array([5.75209553, 5.59631269, 5.63444955, 5.89096747, 4.24556792,\n",
              "       6.30756404, 5.6088425 , 5.19838979, 5.75611959, 4.7904825 ,\n",
              "       6.18344404, 5.27018214, 6.98389802, 4.85104674, 6.20301686,\n",
              "       6.16555845])"
            ]
          },
          "execution_count": 79,
          "metadata": {},
          "output_type": "execute_result"
        }
      ],
      "source": [
        "y_pred"
      ]
    },
    {
      "cell_type": "code",
      "execution_count": 80,
      "id": "29e06a2b",
      "metadata": {
        "colab": {
          "base_uri": "https://localhost:8080/"
        },
        "id": "29e06a2b",
        "outputId": "907a9c4c-99c2-4a56-b832-9ac32a9615d9"
      },
      "outputs": [
        {
          "name": "stdout",
          "output_type": "stream",
          "text": [
            "\n",
            "Mean Squared Error (MSE): 0.23017777189134986\n",
            "Mean Absolute Error (MAE): 0.3932633619692377\n",
            "R-squared (R2): 0.707720970971725\n"
          ]
        }
      ],
      "source": [
        "# Menghitung dan menampilkan evaluasi model\n",
        "mse = mean_squared_error(y_test, y_pred)\n",
        "mae = mean_absolute_error(y_test, y_pred)\n",
        "r2 = r2_score(y_test, y_pred)\n",
        "print(\"\\nMean Squared Error (MSE):\", mse)\n",
        "print(\"Mean Absolute Error (MAE):\", mae)\n",
        "print(\"R-squared (R2):\", r2)"
      ]
    },
    {
      "cell_type": "code",
      "execution_count": 81,
      "id": "40402665",
      "metadata": {
        "colab": {
          "base_uri": "https://localhost:8080/",
          "height": 564
        },
        "id": "40402665",
        "outputId": "35d24715-48b8-4f7f-fe46-85df6e288ed1"
      },
      "outputs": [
        {
          "data": {
            "image/png": "[encoded data removed]",
            "text/plain": [
              "<Figure size 1000x600 with 1 Axes>"
            ]
          },
          "metadata": {},
          "output_type": "display_data"
        }
      ],
      "source": [
        "# Plot hasil prediksi\n",
        "plt.figure(figsize=(10, 6))\n",
        "plt.scatter(y_test, y_pred, color='blue')\n",
        "plt.plot([y_test.min(), y_test.max()], [y_test.min(), y_test.max()], linestyle='--', color='red')\n",
        "plt.xlabel('Actual')\n",
        "plt.ylabel('Predicted')\n",
        "plt.title('Actual vs Predicted')\n",
        "plt.grid(True)\n",
        "plt.show()"
      ]
    }
  ],
  "metadata": {
    "colab": {
      "provenance": []
    },
    "kernelspec": {
      "display_name": "Python 3 (ipykernel)",
      "language": "python",
      "name": "python3"
    },
    "language_info": {
      "codemirror_mode": {
        "name": "ipython",
        "version": 3
      },
      "file_extension": ".py",
      "mimetype": "text/x-python",
      "name": "python",
      "nbconvert_exporter": "python",
      "pygments_lexer": "ipython3",
      "version": "3.11.2"
    },
    "toc": {
      "base_numbering": 1,
      "nav_menu": {},
      "number_sections": true,
      "sideBar": true,
      "skip_h1_title": false,
      "title_cell": "Table of Contents",
      "title_sidebar": "Contents",
      "toc_cell": false,
      "toc_position": {},
      "toc_section_display": true,
      "toc_window_display": false
    },
    "varInspector": {
      "cols": {
        "lenName": 16,
        "lenType": 16,
        "lenVar": 40
      },
      "kernels_config": {
        "python": {
          "delete_cmd_postfix": "",
          "delete_cmd_prefix": "del ",
          "library": "var_list.py",
          "varRefreshCmd": "print(var_dic_list())"
        },
        "r": {
          "delete_cmd_postfix": ") ",
          "delete_cmd_prefix": "rm(",
          "library": "var_list.r",
          "varRefreshCmd": "cat(var_dic_list()) "
        }
      },
      "types_to_exclude": [
        "module",
        "function",
        "builtin_function_or_method",
        "instance",
        "_Feature"
      ],
      "window_display": false
    }
  },
  "nbformat": 4,
  "nbformat_minor": 5
}
